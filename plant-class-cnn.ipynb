{
 "cells": [
  {
   "cell_type": "code",
   "execution_count": null,
   "metadata": {
    "_cell_guid": "b1076dfc-b9ad-4769-8c92-a6c4dae69d19",
    "_uuid": "8f2839f25d086af736a60e9eeb907d3b93b6e0e5",
    "execution": {
     "iopub.execute_input": "2024-11-10T03:04:05.688503Z",
     "iopub.status.busy": "2024-11-10T03:04:05.687758Z",
     "iopub.status.idle": "2024-11-10T03:04:05.701187Z",
     "shell.execute_reply": "2024-11-10T03:04:05.700347Z",
     "shell.execute_reply.started": "2024-11-10T03:04:05.688454Z"
    },
    "trusted": true
   },
   "outputs": [],
   "source": [
    "import os\n",
    "\n",
    "# List the contents of the input directory\n",
    "os.listdir('/kaggle/input')\n"
   ]
  },
  {
   "cell_type": "code",
   "execution_count": 2,
   "metadata": {
    "execution": {
     "iopub.execute_input": "2024-11-10T03:04:05.736959Z",
     "iopub.status.busy": "2024-11-10T03:04:05.736103Z",
     "iopub.status.idle": "2024-11-10T03:04:19.443749Z",
     "shell.execute_reply": "2024-11-10T03:04:19.442929Z",
     "shell.execute_reply.started": "2024-11-10T03:04:05.736919Z"
    },
    "trusted": true
   },
   "outputs": [],
   "source": [
    "import matplotlib.pyplot as plt\n",
    "import os \n",
    "import cv2\n",
    "import numpy as np\n",
    "import seaborn as sns\n",
    "from keras import models,layers\n",
    "from keras import optimizers\n",
    "from keras.utils import to_categorical \n",
    "from keras.models import Sequential\n",
    "from keras.layers import Conv2D,MaxPooling2D,Dense,Dropout,Flatten\n",
    "import tensorflow as tf"
   ]
  },
  {
   "cell_type": "code",
   "execution_count": null,
   "metadata": {
    "execution": {
     "iopub.execute_input": "2024-11-10T03:04:22.450385Z",
     "iopub.status.busy": "2024-11-10T03:04:22.449755Z",
     "iopub.status.idle": "2024-11-10T03:06:46.923206Z",
     "shell.execute_reply": "2024-11-10T03:06:46.922275Z",
     "shell.execute_reply.started": "2024-11-10T03:04:22.450346Z"
    },
    "trusted": true
   },
   "outputs": [],
   "source": [
    "def assign_labels(dataset_path):\n",
    "\n",
    "    images = []\n",
    "    labels = []\n",
    "    label_mapping = {}\n",
    "    \n",
    "    # Iterate over each subdirectory to get class names\n",
    "    for idx, class_name in enumerate(sorted(os.listdir(dataset_path))):\n",
    "        class_path = os.path.join(dataset_path, class_name)\n",
    "        \n",
    "        # Only process if it's a directory\n",
    "        if os.path.isdir(class_path):\n",
    "            label_mapping[class_name] = idx  # Assign a numeric label to each class\n",
    "            \n",
    "            # Load images from the current class directory\n",
    "            for img_file in os.listdir(class_path):\n",
    "                img_path = os.path.join(class_path, img_file)\n",
    "                \n",
    "                # Read and resize the image, then append to the list\n",
    "                img = cv2.imread(img_path)\n",
    "                if img is not None:\n",
    "                    img = cv2.resize(img, (128, 128))\n",
    "                    images.append(img)\n",
    "                    labels.append(idx)  # Use the numeric label assigned earlier\n",
    "\n",
    "    # Convert lists to numpy arrays\n",
    "    images = np.array(images)\n",
    "    labels = np.array(labels)\n",
    "    \n",
    "    return images, labels, label_mapping\n",
    "\n",
    "# Example usage of assign_labels for train, test, and valid sets\n",
    "train_dataset_path = \"/kaggle/input/plants-type-datasets/split_ttv_dataset_type_of_plants/Train_Set_Folder\"\n",
    "test_dataset_path = \"/kaggle/input/plants-type-datasets/split_ttv_dataset_type_of_plants/Test_Set_Folder\"\n",
    "valid_dataset_path = \"/kaggle/input/plants-type-datasets/split_ttv_dataset_type_of_plants/Validation_Set_Folder\"\n",
    "\n",
    "# Assign labels for each set\n",
    "train_images, train_labels, label_mapping = assign_labels(train_dataset_path)\n",
    "test_images, test_labels, _ = assign_labels(test_dataset_path)\n",
    "valid_images, valid_labels, _ = assign_labels(valid_dataset_path)\n",
    "\n",
    "print(\"Data loaded successfully.\")\n",
    "print(f\"Training samples: {len(train_images)}, Testing samples: {len(test_images)}, Validation samples: {len(valid_images)}\")\n"
   ]
  },
  {
   "cell_type": "code",
   "execution_count": null,
   "metadata": {
    "execution": {
     "iopub.execute_input": "2024-11-10T06:23:27.943200Z",
     "iopub.status.busy": "2024-11-10T06:23:27.942818Z",
     "iopub.status.idle": "2024-11-10T06:23:27.950479Z",
     "shell.execute_reply": "2024-11-10T06:23:27.949528Z",
     "shell.execute_reply.started": "2024-11-10T06:23:27.943165Z"
    },
    "trusted": true
   },
   "outputs": [],
   "source": [
    "label_mapping"
   ]
  },
  {
   "cell_type": "code",
   "execution_count": null,
   "metadata": {
    "execution": {
     "iopub.execute_input": "2024-11-10T02:59:03.588738Z",
     "iopub.status.busy": "2024-11-10T02:59:03.588403Z",
     "iopub.status.idle": "2024-11-10T02:59:03.816504Z",
     "shell.execute_reply": "2024-11-10T02:59:03.815444Z",
     "shell.execute_reply.started": "2024-11-10T02:59:03.588709Z"
    },
    "trusted": true
   },
   "outputs": [],
   "source": [
    "def show_sample_images(images, labels, label_mapping, num_samples=5):\n",
    "    \"\"\"\n",
    "    Display a few sample images with labels.\n",
    "    \n",
    "    Args:\n",
    "        images (np.array): Array of images.\n",
    "        labels (np.array): Array of labels.\n",
    "        label_mapping (dict): Dictionary mapping numeric labels to class names.\n",
    "        num_samples (int): Number of images to display.\n",
    "    \"\"\"\n",
    "    # Reverse the label_mapping to get class names from numeric labels\n",
    "    class_names = {v: k for k, v in label_mapping.items()}\n",
    "    \n",
    "    plt.figure(figsize=(10, 5))\n",
    "    for i in range(num_samples):\n",
    "        idx = np.random.randint(0, len(images))\n",
    "        img = images[idx]\n",
    "        label = labels[idx]\n",
    "        label_name = class_names[label]\n",
    "        \n",
    "        plt.subplot(1, num_samples, i + 1)\n",
    "        plt.imshow(cv2.cvtColor(img, cv2.COLOR_BGR2RGB))\n",
    "        plt.title(label_name)\n",
    "        plt.axis('off')\n",
    "    \n",
    "    plt.show()\n",
    "\n",
    "# Example usage to display sample images from the train set\n",
    "show_sample_images(train_images, train_labels, label_mapping)\n"
   ]
  },
  {
   "cell_type": "code",
   "execution_count": null,
   "metadata": {
    "execution": {
     "iopub.execute_input": "2024-11-10T03:08:13.503815Z",
     "iopub.status.busy": "2024-11-10T03:08:13.502604Z",
     "iopub.status.idle": "2024-11-10T03:08:13.512635Z",
     "shell.execute_reply": "2024-11-10T03:08:13.511795Z",
     "shell.execute_reply.started": "2024-11-10T03:08:13.503760Z"
    },
    "trusted": true
   },
   "outputs": [],
   "source": [
    "from tensorflow.keras.utils import to_categorical\n",
    "\n",
    "# Convert labels for train, test, and validation sets to categorical format\n",
    "train_labels_categorical = to_categorical(train_labels, num_classes=len(label_mapping))\n",
    "test_labels_categorical = to_categorical(test_labels, num_classes=len(label_mapping))\n",
    "valid_labels_categorical = to_categorical(valid_labels, num_classes=len(label_mapping))\n",
    "\n",
    "# Verify the shape of the categorical labels\n",
    "print(\"Train labels (categorical):\", train_labels_categorical.shape)\n",
    "print(\"Test labels (categorical):\", test_labels_categorical.shape)\n",
    "print(\"Validation labels (categorical):\", valid_labels_categorical.shape)\n"
   ]
  },
  {
   "cell_type": "code",
   "execution_count": null,
   "metadata": {
    "execution": {
     "iopub.execute_input": "2024-11-07T18:22:43.181049Z",
     "iopub.status.busy": "2024-11-07T18:22:43.180658Z",
     "iopub.status.idle": "2024-11-07T18:22:43.187459Z",
     "shell.execute_reply": "2024-11-07T18:22:43.186568Z",
     "shell.execute_reply.started": "2024-11-07T18:22:43.181011Z"
    },
    "trusted": true
   },
   "outputs": [],
   "source": [
    "# Print some samples of the converted categorical labels\n",
    "print(\"First 5 train labels (categorical):\\n\", train_labels_categorical[:5])\n",
    "\n"
   ]
  },
  {
   "cell_type": "code",
   "execution_count": null,
   "metadata": {
    "execution": {
     "iopub.execute_input": "2024-11-10T03:08:23.682927Z",
     "iopub.status.busy": "2024-11-10T03:08:23.682309Z",
     "iopub.status.idle": "2024-11-10T03:08:25.566376Z",
     "shell.execute_reply": "2024-11-10T03:08:25.565491Z",
     "shell.execute_reply.started": "2024-11-10T03:08:23.682887Z"
    },
    "trusted": true
   },
   "outputs": [],
   "source": [
    "# Normalize images to the range [0, 1] by dividing by 255.0\n",
    "x_train = train_images.astype('float32') / 255.0\n",
    "x_test = test_images.astype('float32') / 255.0\n",
    "x_valid = valid_images.astype('float32') / 255.0\n",
    "\n",
    "# Print the shape to confirm that data is properly prepared\n",
    "print(\"Training data shape:\", x_train.shape)\n",
    "print(\"Testing data shape:\", x_test.shape)\n",
    "print(\"Validation data shape:\", x_valid.shape)\n"
   ]
  },
  {
   "cell_type": "code",
   "execution_count": null,
   "metadata": {},
   "outputs": [],
   "source": [
    "model=Sequential()\n",
    "model.add(Conv2D(32,(3,3),activation='relu',input_shape=(128,128,3)))\n",
    "model.add(MaxPooling2D(2,2))\n",
    "model.add(Conv2D(64,(3,3),activation='relu'))\n",
    "model.add(MaxPooling2D(2,2))\n",
    "model.add(Conv2D(64,(3,3),activation='relu'))\n",
    "model.add(MaxPooling2D(2,2))\n",
    "model.add(Conv2D(64,(3,3),activation='relu'))\n",
    "model.add(Conv2D(128,(3,3),activation='relu'))\n",
    "model.add(Conv2D(128,(3,3),activation='relu'))\n",
    "model.add(Flatten())\n",
    "\n",
    "model.add(Dense(64,activation='relu'))\n",
    "model.add(Dense(30,activation='softmax'))\n",
    "model.summary()\n"
   ]
  },
  {
   "cell_type": "code",
   "execution_count": 104,
   "metadata": {
    "execution": {
     "iopub.execute_input": "2024-11-10T04:10:34.641227Z",
     "iopub.status.busy": "2024-11-10T04:10:34.640830Z",
     "iopub.status.idle": "2024-11-10T04:10:34.651027Z",
     "shell.execute_reply": "2024-11-10T04:10:34.650077Z",
     "shell.execute_reply.started": "2024-11-10T04:10:34.641190Z"
    },
    "trusted": true
   },
   "outputs": [],
   "source": [
    "from keras.optimizers import Adam\n",
    "model.compile(optimizer=Adam(),loss='categorical_crossentropy',metrics=['accuracy'])"
   ]
  },
  {
   "cell_type": "code",
   "execution_count": null,
   "metadata": {
    "execution": {
     "iopub.execute_input": "2024-11-10T04:10:37.719872Z",
     "iopub.status.busy": "2024-11-10T04:10:37.719169Z"
    },
    "trusted": true
   },
   "outputs": [],
   "source": [
    "from keras.callbacks import EarlyStopping\n",
    "from time import time\n",
    "\n",
    "# Define early stopping\n",
    "early_stop = EarlyStopping(monitor='val_loss', patience=2, restore_best_weights=True)\n",
    "\n",
    "# Record start time\n",
    "tic = time()\n",
    "\n",
    "# Train the model\n",
    "model.fit(\n",
    "    x_train, train_labels_categorical,\n",
    "    epochs=15,\n",
    "    batch_size=100,\n",
    "    validation_data=(x_valid, valid_labels_categorical),  # Directly pass the validation set\n",
    "    callbacks=[early_stop]\n",
    ")\n",
    "\n",
    "# Print the training time\n",
    "toc = time()\n",
    "print(\"Training time:\", toc - tic, \"seconds\")\n"
   ]
  },
  {
   "cell_type": "code",
   "execution_count": null,
   "metadata": {
    "execution": {
     "iopub.execute_input": "2024-11-10T04:08:10.599205Z",
     "iopub.status.busy": "2024-11-10T04:08:10.598305Z",
     "iopub.status.idle": "2024-11-10T04:08:13.106903Z",
     "shell.execute_reply": "2024-11-10T04:08:13.105928Z",
     "shell.execute_reply.started": "2024-11-10T04:08:10.599162Z"
    },
    "trusted": true
   },
   "outputs": [],
   "source": [
    "# Evaluate the model\n",
    "loss, accuracy = model.evaluate(x_test, test_labels_categorical)\n",
    "print('Test accuracy:', accuracy)"
   ]
  },
  {
   "cell_type": "code",
   "execution_count": null,
   "metadata": {
    "execution": {
     "iopub.execute_input": "2024-11-06T16:31:29.200390Z",
     "iopub.status.busy": "2024-11-06T16:31:29.199972Z",
     "iopub.status.idle": "2024-11-06T16:31:31.514756Z",
     "shell.execute_reply": "2024-11-06T16:31:31.513629Z",
     "shell.execute_reply.started": "2024-11-06T16:31:29.200351Z"
    },
    "trusted": true
   },
   "outputs": [],
   "source": [
    "pred = model.predict(x_test)\n"
   ]
  },
  {
   "cell_type": "code",
   "execution_count": null,
   "metadata": {
    "execution": {
     "iopub.execute_input": "2024-11-06T16:32:11.108258Z",
     "iopub.status.busy": "2024-11-06T16:32:11.107762Z",
     "iopub.status.idle": "2024-11-06T16:32:12.604575Z",
     "shell.execute_reply": "2024-11-06T16:32:12.603493Z",
     "shell.execute_reply.started": "2024-11-06T16:32:11.108219Z"
    },
    "trusted": true
   },
   "outputs": [],
   "source": [
    "num_images_to_display = 20\n",
    "num_columns = 4\n",
    "num_rows = (num_images_to_display + num_columns - 1) // num_columns\n",
    "\n",
    "fig, axes = plt.subplots(num_rows, num_columns, figsize=(15, 10))\n",
    "for i, ax in enumerate(axes.flat):\n",
    "    if i < num_images_to_display:\n",
    "        ax.imshow(x_test[i])\n",
    "        actual_label = labels[np.argmax(y_test[i])]\n",
    "        predicted_label = labels[np.argmax(pred[i])]\n",
    "        ax.set_title(f\"Actual: {actual_label}, Predicted: {predicted_label}\")\n",
    "        ax.axis('off')\n",
    "    else:\n",
    "        ax.axis('off')\n",
    "\n",
    "plt.tight_layout()\n",
    "plt.show()\n"
   ]
  }
 ],
 "metadata": {
  "kaggle": {
   "accelerator": "gpu",
   "dataSources": [
    {
     "datasetId": 1047938,
     "sourceId": 7170186,
     "sourceType": "datasetVersion"
    }
   ],
   "dockerImageVersionId": 30786,
   "isGpuEnabled": true,
   "isInternetEnabled": false,
   "language": "python",
   "sourceType": "notebook"
  },
  "kernelspec": {
   "display_name": "Python 3",
   "language": "python",
   "name": "python3"
  },
  "language_info": {
   "codemirror_mode": {
    "name": "ipython",
    "version": 3
   },
   "file_extension": ".py",
   "mimetype": "text/x-python",
   "name": "python",
   "nbconvert_exporter": "python",
   "pygments_lexer": "ipython3",
   "version": "3.10.14"
  }
 },
 "nbformat": 4,
 "nbformat_minor": 4
}
